{
 "cells": [
  {
   "cell_type": "code",
   "execution_count": 4,
   "metadata": {},
   "outputs": [
    {
     "name": "stdout",
     "output_type": "stream",
     "text": [
      "tensorflow version: 2.0.0-beta1\n"
     ]
    }
   ],
   "source": [
    "import tensorflow as tf\n",
    "from tensorflow.keras import layers\n",
    "print(\"tensorflow version:\",tf.__version__)\n",
    "\n",
    "class NeuMF(layers.Layer):\n",
    "    def __init__(self, num_users, num_items, hidden_dim, layers_dim):\n",
    "        super(NeuMF,self).__init__()\n",
    "        self.gmf_user_emb = layers.Embedding(num_users, hidden_dim)\n",
    "        self.gmf_item_emb = layers.Embedding(num_items, hidden_dim)\n",
    "        \n",
    "        self.mlp_user_emb = layers.Embedding(num_users, hidden_dim)\n",
    "        self.mlp_item_emb = layers.Embedding(num_items, hidden_dim)\n",
    "        \n",
    "        layers_dim = [layers_dim] if type(layers_dim) is int else layers_dim\n",
    "        self.mlp_fc_layers = [layers.Dense(i, activation='relu') for i in layers_dim]\n",
    "        \n",
    "        self.final = layers.Dense(1, activation='sigmoid')\n",
    "    \n",
    "    def call(self, user_indices, item_indices):\n",
    "        gmf_u = self.gmf_user_emb(user_indices)\n",
    "        gmf_i = self.gmf_item_emb(item_indices)\n",
    "        gmf_layer = tf.multiply(gmf_u,gmf_i)\n",
    "        \n",
    "        mlp_u = self.mlp_user_emb(user_indices)\n",
    "        mlp_i = self.mlp_item_emb(item_indices)\n",
    "        mlp_layer = tf.concat([mlp_u,mlp_i], 1)\n",
    "        for l in self.mlp_fc_layers:\n",
    "            mlp_layer = l(mlp_layer)\n",
    "            \n",
    "        nmf_layer = tf.concat([gmf_layer,mlp_layer], 1)\n",
    "        result = self.final(nmf_layer)\n",
    "        \n",
    "        return result"
   ]
  },
  {
   "cell_type": "code",
   "execution_count": 5,
   "metadata": {},
   "outputs": [],
   "source": [
    "import pandas as pd\n",
    "from utils.data import SampleGenerator\n",
    "\n",
    "ratings = pd.read_csv('dataset/ratings.csv')\n",
    "ratings = ratings.rename(columns={'movieId': 'itemId'})\n",
    "\n",
    "userId = list(set(ratings.userId))\n",
    "new_userId = list(range(0,len(userId)))\n",
    "df = pd.DataFrame({'userId':userId,'new_userId':new_userId})\n",
    "ratings = pd.merge(ratings,df,how='left', on='userId')\n",
    "\n",
    "itemId = list(set(ratings.itemId))\n",
    "new_itemId = list(range(0,len(itemId)))\n",
    "df = pd.DataFrame({'itemId':itemId,'new_itemId':new_itemId})\n",
    "ratings = pd.merge(ratings,df,how='left', on='itemId')\n",
    "\n",
    "ratings = ratings.drop(['userId', 'itemId'],axis = 1)\n",
    "ratings = ratings.rename(columns={'new_userId':'userId', 'new_itemId':'itemId'})\n",
    "\n",
    "data = SampleGenerator(ratings, implicit=True)\n",
    "hidden_dim = 128\n",
    "layers_dim = [128]\n",
    "lr = 0.001\n",
    "batch_size = 2048\n",
    "epochs = 15\n",
    "\n",
    "num_users = data.num_users\n",
    "num_items = data.num_items\n",
    "num_negatives_train = 5\n",
    "num_negatives_test = 500\n",
    "\n",
    "model = NeuMF(num_users, num_items, hidden_dim, layers_dim)\n",
    "\n",
    "# Instantiate a logistic loss function.\n",
    "loss_fn = tf.keras.losses.BinaryCrossentropy()\n",
    "# Instantiate an optimizer.\n",
    "optimizer = tf.keras.optimizers.Adam(learning_rate=lr)"
   ]
  },
  {
   "cell_type": "code",
   "execution_count": null,
   "metadata": {},
   "outputs": [
    {
     "name": "stderr",
     "output_type": "stream",
     "text": [
      "WARNING: Logging before flag parsing goes to stderr.\n",
      "W0619 00:22:34.374354 19420 deprecation.py:323] From C:\\Users\\hojin\\Anaconda3\\envs\\tensorflow2\\lib\\site-packages\\tensorflow\\python\\ops\\math_grad.py:1220: add_dispatch_support.<locals>.wrapper (from tensorflow.python.ops.array_ops) is deprecated and will be removed in a future version.\n",
      "Instructions for updating:\n",
      "Use tf.where in 2.0, which has the same broadcast rule as np.where\n"
     ]
    },
    {
     "name": "stdout",
     "output_type": "stream",
     "text": [
      "epoch1 loss:78.0734\n",
      "recall@10:0.5968, prec@10:0.2565\n",
      "epoch2 loss:63.0231\n",
      "recall@10:0.6126, prec@10:0.2636\n",
      "epoch3 loss:59.3914\n",
      "recall@10:0.6420, prec@10:0.2782\n",
      "epoch4 loss:48.5802\n",
      "recall@10:0.6713, prec@10:0.3016\n",
      "epoch5 loss:37.0011\n",
      "recall@10:0.6798, prec@10:0.3096\n",
      "epoch6 loss:27.9911\n",
      "recall@10:0.6905, prec@10:0.3206\n"
     ]
    }
   ],
   "source": [
    "import os\n",
    "from utils.eval import Evaluation\n",
    "\n",
    "#TODO: model save code\n",
    "#if not os.path.exists(\"./checkpoint\"):\n",
    "#    os.mkdir(\"./checkpoint\")\n",
    "\n",
    "test_loader, negative_loader = data.instance_test_loader(num_negatives = num_negatives_test, batch_size = batch_size)\n",
    "for epoch in range(1,epochs+1):\n",
    "    train_loader = data.instance_a_train_loader(num_negatives=num_negatives_train, batch_size=batch_size)\n",
    "    total_loss = 0\n",
    "    for batch_id, batch in enumerate(train_loader):\n",
    "        user, item, rating = batch[0], batch[1], batch[2]\n",
    "        # Open a GradientTape.\n",
    "        with tf.GradientTape() as tape:\n",
    "            # Forward pass.\n",
    "            pred = model(user, item)\n",
    "            # Loss value for this batch.\n",
    "            loss = loss_fn(rating, tf.reshape(pred, [-1]))\n",
    "        # Get gradients of weights wrt the loss.\n",
    "        gradients = tape.gradient(loss, model.trainable_weights)\n",
    "        # Update the weights of our linear layer.\n",
    "        optimizer.apply_gradients(zip(gradients, model.trainable_weights))\n",
    "        total_loss += float(loss)\n",
    "\n",
    "    print(\"epoch{0} loss:{1:.4f}\".format(epoch, total_loss))\n",
    "  \n",
    "    #TODO: model save code\n",
    "  \n",
    "    test_users, test_items, test_preds = list(), list(), list()\n",
    "    neg_users, neg_items, neg_preds = list(), list(), list()\n",
    "\n",
    "    for batch in test_loader:\n",
    "        user, item = batch[0], batch[1]\n",
    "        test_users += user.numpy().tolist()\n",
    "        test_items += item.numpy().tolist()\n",
    "        pred = model(user,item)\n",
    "        pred = tf.reshape(pred, [-1])\n",
    "        test_preds += pred.numpy().tolist()\n",
    "\n",
    "    for batch in negative_loader:\n",
    "        user, item = batch[0], batch[1]\n",
    "        neg_users += user.numpy().tolist()\n",
    "        neg_items += item.numpy().tolist()\n",
    "        pred = model(user, item)\n",
    "        pred = tf.reshape(pred, [-1])\n",
    "        neg_preds += pred.numpy().tolist()\n",
    "    \n",
    "    eval = Evaluation([test_users, test_items, test_preds,\n",
    "                       neg_users, neg_items, neg_preds])\n",
    "    eval.print_eval_score_k(10)\n",
    "        "
   ]
  }
 ],
 "metadata": {
  "kernelspec": {
   "display_name": "Python [conda env:tensorflow2] *",
   "language": "python",
   "name": "conda-env-tensorflow2-py"
  },
  "language_info": {
   "codemirror_mode": {
    "name": "ipython",
    "version": 3
   },
   "file_extension": ".py",
   "mimetype": "text/x-python",
   "name": "python",
   "nbconvert_exporter": "python",
   "pygments_lexer": "ipython3",
   "version": "3.6.8"
  }
 },
 "nbformat": 4,
 "nbformat_minor": 2
}
